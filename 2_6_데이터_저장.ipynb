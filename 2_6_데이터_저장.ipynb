{
  "nbformat": 4,
  "nbformat_minor": 0,
  "metadata": {
    "colab": {
      "provenance": []
    },
    "kernelspec": {
      "name": "python3",
      "display_name": "Python 3"
    },
    "language_info": {
      "name": "python"
    }
  },
  "cells": [
    {
      "cell_type": "code",
      "execution_count": 1,
      "metadata": {
        "colab": {
          "base_uri": "https://localhost:8080/"
        },
        "id": "81FYx3moxVgP",
        "outputId": "4af9fe74-7a28-4212-968e-2fce7d469569"
      },
      "outputs": [
        {
          "output_type": "stream",
          "name": "stdout",
          "text": [
            "rank,city,population\n"
          ]
        }
      ],
      "source": [
        "# csv 형식으로 저장하기\n",
        "# 첫 번째 줄에 헤더를 작성\n",
        "print('rank,city,population')"
      ]
    },
    {
      "cell_type": "code",
      "source": [
        "# join() 메서드의 매개변수로 전달한 list는 str이어야 하므로 주의\n",
        "print(','.join(['1','상하이','24150000']))\n",
        "print(','.join(['2', '카라치', '23500000']))\n",
        "print(','.join(['3', '베이징', '21516000']))\n",
        "print(','.join(['4', '텐진', '14722100']))\n",
        "print(','.join(['5', '이스탄불', '14160467']))"
      ],
      "metadata": {
        "colab": {
          "base_uri": "https://localhost:8080/"
        },
        "id": "F6n-yrwFxlCc",
        "outputId": "17933a29-ff1d-41d3-8475-a9e919a27667"
      },
      "execution_count": 2,
      "outputs": [
        {
          "output_type": "stream",
          "name": "stdout",
          "text": [
            "1,상하이,24150000\n",
            "2,카라치,23500000\n",
            "3,베이징,21516000\n",
            "4,텐진,14722100\n",
            "5,이스탄불,14160467\n"
          ]
        }
      ]
    },
    {
      "cell_type": "code",
      "source": [
        "import csv\n",
        "\n",
        "# 파일을 엽니다. newline=''으로 줄바꿈 코드의 자동 변환을 제어합니다.\n",
        "with open('top_cities.csv', 'w', newline='') as f:\n",
        "    # csv.writer는 파일 객체를 매개변수로 지정합니다.\n",
        "    writer = csv.writer(f)\n",
        "    # 첫 번째 줄에는 헤더를 작성합니다.\n",
        "    writer.writerow(['rank', 'city', 'population'])\n",
        "    # writerows()에 리스트를 전달하면 여러 개의 값을 출력합니다.\n",
        "    writer.writerows([\n",
        "        [1, '상하이', 24150000],\n",
        "        [2, '카라치', 23500000],\n",
        "        [3, '베이징', 21516000],\n",
        "        [4, '텐진', 14722100],\n",
        "        [5, '이스탄불', 14160467],\n",
        "    ])"
      ],
      "metadata": {
        "id": "78wJDzst8pvr"
      },
      "execution_count": 3,
      "outputs": []
    },
    {
      "cell_type": "code",
      "source": [
        "import csv\n",
        "\n",
        "with open('top_cities2.csv', 'w', newline='') as f:\n",
        "    # 첫 번째 매개변수에 파일 객체\n",
        "    # 두 번째 매개변수에 필드 이름 리스트를 지정합니다.\n",
        "    writer = csv.DictWriter(f, ['rank', 'city', 'population'])\n",
        "      # 첫 번째 줄에 헤더를 입력합니다.\n",
        "    writer.writeheader()\n",
        "    # writerows()로 여러 개의 데이터를 딕셔너리 형태로 작성합니다.\n",
        "    writer.writerows([\n",
        "        {'rank': 1, 'city': '상하이', 'population': 24150000},\n",
        "        {'rank': 2, 'city': '카라치', 'population': 23500000},\n",
        "        {'rank': 3, 'city': '베이징', 'population': 21516000},\n",
        "        {'rank': 4, 'city': '텐진', 'population': 14722100},\n",
        "        {'rank': 5, 'city': '이스탄불', 'population': 14160467},\n",
        "    ])"
      ],
      "metadata": {
        "id": "Vs5duiT485T-"
      },
      "execution_count": 4,
      "outputs": []
    },
    {
      "cell_type": "code",
      "source": [
        "# JSON 형식으로 저장\n",
        "import json\n",
        "\n",
        "cities = [\n",
        "    {'rank': 1, 'city': '상하이', 'population': 24150000},\n",
        "    {'rank': 2, 'city': '카라치', 'population': 23500000},\n",
        "    {'rank': 3, 'city': '베이징', 'population': 21516000},\n",
        "    {'rank': 4, 'city': '텐진', 'population': 14722100},\n",
        "    {'rank': 5, 'city': '이스탄불', 'population': 14160467},\n",
        "]"
      ],
      "metadata": {
        "id": "XPR9Hblz9Wow"
      },
      "execution_count": 6,
      "outputs": []
    },
    {
      "cell_type": "code",
      "source": [
        "print(json.dumps(cities))"
      ],
      "metadata": {
        "colab": {
          "base_uri": "https://localhost:8080/"
        },
        "id": "2vAYRJ0w-Hga",
        "outputId": "cf450e47-ff71-4cfc-8f60-14e78f8561a3"
      },
      "execution_count": 7,
      "outputs": [
        {
          "output_type": "stream",
          "name": "stdout",
          "text": [
            "[{\"rank\": 1, \"city\": \"\\uc0c1\\ud558\\uc774\", \"population\": 24150000}, {\"rank\": 2, \"city\": \"\\uce74\\ub77c\\uce58\", \"population\": 23500000}, {\"rank\": 3, \"city\": \"\\ubca0\\uc774\\uc9d5\", \"population\": 21516000}, {\"rank\": 4, \"city\": \"\\ud150\\uc9c4\", \"population\": 14722100}, {\"rank\": 5, \"city\": \"\\uc774\\uc2a4\\ud0c4\\ubd88\", \"population\": 14160467}]\n"
          ]
        }
      ]
    },
    {
      "cell_type": "code",
      "source": [
        "with open('top_cities.json','w') as f:\n",
        "  json.dump(cities,f)"
      ],
      "metadata": {
        "id": "TQ269-6j-KeP"
      },
      "execution_count": 8,
      "outputs": []
    },
    {
      "cell_type": "code",
      "source": [
        "import sqlite3\n",
        "# top_cities.db 파일을 열고 연결을 변수에 저장\n",
        "conn = sqlite3.connect('top_cities.db')"
      ],
      "metadata": {
        "id": "owla4X6f-1ym"
      },
      "execution_count": 9,
      "outputs": []
    },
    {
      "cell_type": "code",
      "source": [
        "# 커서 추출\n",
        "c = conn.cursor()"
      ],
      "metadata": {
        "id": "rWoXSZyv_YNz"
      },
      "execution_count": 10,
      "outputs": []
    },
    {
      "cell_type": "code",
      "source": [
        "# execute() 메서드로 SQL 구문을 실행\n",
        "# 스크립트를 여러 번 사용해도 같은 결과를 출력할 수 있게 cities 테이블이 존재하는 경우 제거\n",
        "c.execute('DROP TABLE IF EXISTS cities')"
      ],
      "metadata": {
        "colab": {
          "base_uri": "https://localhost:8080/"
        },
        "id": "7V83x3O9_aom",
        "outputId": "10b93d78-95d7-4fdd-86ae-729f57cdb986"
      },
      "execution_count": 11,
      "outputs": [
        {
          "output_type": "execute_result",
          "data": {
            "text/plain": [
              "<sqlite3.Cursor at 0x7cd7aaadbcc0>"
            ]
          },
          "metadata": {},
          "execution_count": 11
        }
      ]
    },
    {
      "cell_type": "code",
      "source": [
        "# cities 테이블을 생성합니다.\n",
        "c.execute('''\n",
        "    CREATE TABLE cities (\n",
        "        rank integer,\n",
        "        city text,\n",
        "        population integer\n",
        "    )\n",
        "''')"
      ],
      "metadata": {
        "colab": {
          "base_uri": "https://localhost:8080/"
        },
        "id": "CKEnkgQ5_mEM",
        "outputId": "f1d81dfe-0b5e-4189-8757-8a8a7d260fec"
      },
      "execution_count": 13,
      "outputs": [
        {
          "output_type": "execute_result",
          "data": {
            "text/plain": [
              "<sqlite3.Cursor at 0x7cd7aaadbcc0>"
            ]
          },
          "metadata": {},
          "execution_count": 13
        }
      ]
    },
    {
      "cell_type": "code",
      "source": [
        "# execute() 메서드의 두 번째 매개변수에는 파라미터를 지정할 수 있습니다.\n",
        "# SQL 내부에서 파라미터로 변경할 부분(플레이스홀더)은 ?로 지정합니다.\n",
        "c.execute('INSERT INTO cities VALUES (?, ?, ?)', (1, '상하이', 24150000))"
      ],
      "metadata": {
        "colab": {
          "base_uri": "https://localhost:8080/"
        },
        "id": "oJaClAzV_5PJ",
        "outputId": "836fbb41-438f-4d16-8f60-5f88accdf352"
      },
      "execution_count": 14,
      "outputs": [
        {
          "output_type": "execute_result",
          "data": {
            "text/plain": [
              "<sqlite3.Cursor at 0x7cd7aaadbcc0>"
            ]
          },
          "metadata": {},
          "execution_count": 14
        }
      ]
    },
    {
      "cell_type": "code",
      "source": [
        "# 파라미터가 딕셔너리일 때는 플레이스홀더를 :<이름> 형태로 지정합니다.\n",
        "c.execute('INSERT INTO cities VALUES (:rank, :city, :population)',\n",
        "          {'rank': 2, 'city': '카라치', 'population': 23500000})"
      ],
      "metadata": {
        "colab": {
          "base_uri": "https://localhost:8080/"
        },
        "id": "aHHjRrI5AXao",
        "outputId": "e8e4d0cf-5a9a-4e40-928c-e7b82b6eb757"
      },
      "execution_count": 15,
      "outputs": [
        {
          "output_type": "execute_result",
          "data": {
            "text/plain": [
              "<sqlite3.Cursor at 0x7cd7aaadbcc0>"
            ]
          },
          "metadata": {},
          "execution_count": 15
        }
      ]
    },
    {
      "cell_type": "code",
      "source": [
        "# executemany() 메서드를 사용하면 여러 개의 파라미터를 리스트로 지정해서\n",
        "# 여러 개(현재 예제에서는 3개)의 SQL 구문을 실행할 수 있습니다.\n",
        "c.executemany('INSERT INTO cities VALUES (:rank, :city, :population)', [\n",
        "    {'rank': 3, 'city': '베이징', 'population': 21516000},\n",
        "    {'rank': 4, 'city': '텐진', 'population': 14722100},\n",
        "    {'rank': 5, 'city': '이스탄불', 'population': 14160467},\n",
        "])"
      ],
      "metadata": {
        "colab": {
          "base_uri": "https://localhost:8080/"
        },
        "id": "BtkqMz2lAZWV",
        "outputId": "87065cf5-0c11-4207-cf63-132018c4eceb"
      },
      "execution_count": 16,
      "outputs": [
        {
          "output_type": "execute_result",
          "data": {
            "text/plain": [
              "<sqlite3.Cursor at 0x7cd7aaadbcc0>"
            ]
          },
          "metadata": {},
          "execution_count": 16
        }
      ]
    },
    {
      "cell_type": "code",
      "source": [
        "# 변경사항을 커밋(저장)합니다.\n",
        "conn.commit()"
      ],
      "metadata": {
        "id": "pkS5V_VnAhKN"
      },
      "execution_count": 17,
      "outputs": []
    },
    {
      "cell_type": "code",
      "source": [
        "# 저장한 데이터를 추출합니다.\n",
        "c.execute('SELECT * FROM cities')"
      ],
      "metadata": {
        "colab": {
          "base_uri": "https://localhost:8080/"
        },
        "id": "vSuYTad0AiXi",
        "outputId": "d7ef8228-4be6-4be1-9ae2-3f1291488780"
      },
      "execution_count": 18,
      "outputs": [
        {
          "output_type": "execute_result",
          "data": {
            "text/plain": [
              "<sqlite3.Cursor at 0x7cd7aaadbcc0>"
            ]
          },
          "metadata": {},
          "execution_count": 18
        }
      ]
    },
    {
      "cell_type": "code",
      "source": [
        "# 쿼리의 결과는 fetchall() 메서드로 추출할 수 있습니다.\n",
        "for row in c.fetchall():\n",
        "      # 추출한 데이터를 출력합니다.\n",
        "    print(row)"
      ],
      "metadata": {
        "colab": {
          "base_uri": "https://localhost:8080/"
        },
        "id": "cI_C1lIBAkhM",
        "outputId": "dbc7036e-e5d5-40ff-c657-f91ff6afa949"
      },
      "execution_count": 20,
      "outputs": [
        {
          "output_type": "stream",
          "name": "stdout",
          "text": [
            "(1, '상하이', 24150000)\n",
            "(2, '카라치', 23500000)\n",
            "(3, '베이징', 21516000)\n",
            "(4, '텐진', 14722100)\n",
            "(5, '이스탄불', 14160467)\n"
          ]
        }
      ]
    },
    {
      "cell_type": "code",
      "source": [
        "# 연결을 닫습니다.\n",
        "conn.close()"
      ],
      "metadata": {
        "id": "Mr60xQViAmie"
      },
      "execution_count": 21,
      "outputs": []
    },
    {
      "cell_type": "code",
      "source": [],
      "metadata": {
        "id": "9YgLmZ-kApfV"
      },
      "execution_count": null,
      "outputs": []
    }
  ]
}